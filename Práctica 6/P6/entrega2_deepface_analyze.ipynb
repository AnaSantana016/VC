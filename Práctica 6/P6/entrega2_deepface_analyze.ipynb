{
 "cells": [
  {
   "attachments": {},
   "cell_type": "markdown",
   "id": "643c68d5",
   "metadata": {},
   "source": [
    "# Parecido de famosos"
   ]
  },
  {
   "cell_type": "code",
   "execution_count": 43,
   "metadata": {},
   "outputs": [
    {
     "name": "stdout",
     "output_type": "stream",
     "text": [
      "Esta persona se parece exactamente a Brad Pitt\n"
     ]
    }
   ],
   "source": [
    "import os\n",
    "from deepface import DeepFace\n",
    "\n",
    "data_dir = \"C:/Users/orrub/Desktop/vccccc/Celebrity Faces Dataset\"\n",
    "sample_image_path = \"images/001_c04300ef.jpg\"\n",
    "\n",
    "threshold_distance = 0.6  # Umbral de distancia ajustado\n",
    "found_match = False  # Coincidencia\n",
    "closest_match = None  # Almacenar el nombre de la coincidencia más cercana\n",
    "closest_distance = float('inf')  # Distancia más cercana con infinito\n",
    "\n",
    "if not os.path.exists(sample_image_path):\n",
    "    print(f\"La imagen de muestra no existe en la ruta especificada: {sample_image_path}\")\n",
    "    exit()\n",
    "\n",
    "for subdirectory in os.listdir(data_dir):\n",
    "    subdirectory_path = os.path.join(data_dir, subdirectory)\n",
    "\n",
    "    # Verificar si es un directorio\n",
    "    if os.path.isdir(subdirectory_path):\n",
    "        for entry in os.listdir(subdirectory_path):\n",
    "            entry_path = os.path.join(subdirectory_path, entry)\n",
    "\n",
    "            # Verificar si es un archivo y si es una imagen\n",
    "            if os.path.isfile(entry_path) and entry.lower().endswith(('.png', '.jpg', '.jpeg')):\n",
    "                result = DeepFace.verify(sample_image_path, entry_path, model_name=\"Facenet\", enforce_detection=False)\n",
    "\n",
    "                if result['verified'] and result['distance'] <= threshold_distance:\n",
    "                    print(f\"Esta persona se parece exactamente a {subdirectory}\")\n",
    "                    found_match = True\n",
    "                    break\n",
    "\n",
    "                elif not result['verified'] and result['distance'] < closest_distance:\n",
    "                    closest_distance = result['distance']\n",
    "                    closest_match = subdirectory\n",
    "\n",
    "        if found_match:\n",
    "            break \n",
    "\n",
    "if not found_match:\n",
    "    if closest_match is not None:\n",
    "        print(f\"La coincidencia más cercana es {closest_match} con una distancia de {closest_distance}\")\n",
    "    else:\n",
    "        print(\"¡No se encontró una coincidencia exacta!\")\n"
   ]
  }
 ],
 "metadata": {
  "kernelspec": {
   "display_name": "Python 3.9.0 ('deepface')",
   "language": "python",
   "name": "python3"
  },
  "language_info": {
   "codemirror_mode": {
    "name": "ipython",
    "version": 3
   },
   "file_extension": ".py",
   "mimetype": "text/x-python",
   "name": "python",
   "nbconvert_exporter": "python",
   "pygments_lexer": "ipython3",
   "version": "3.9.0"
  },
  "vscode": {
   "interpreter": {
    "hash": "12028effb1af0cd2244438ff9b17d06bb1d7695ec7a554a144e43ec4b8b79006"
   }
  }
 },
 "nbformat": 4,
 "nbformat_minor": 5
}
