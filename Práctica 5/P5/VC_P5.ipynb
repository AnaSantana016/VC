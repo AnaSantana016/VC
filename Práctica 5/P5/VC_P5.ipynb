{
 "cells": [
  {
   "cell_type": "markdown",
   "metadata": {},
   "source": [
    "#Paquetes necesarios"
   ]
  },
  {
   "cell_type": "code",
   "execution_count": 1,
   "metadata": {},
   "outputs": [],
   "source": [
    "import cv2  \n",
    "import math \n",
    "\n",
    "from ultralytics import YOLO\n",
    "import pytesseract"
   ]
  },
  {
   "cell_type": "markdown",
   "metadata": {},
   "source": [
    "Desde cámara, detección con yolov8 y modelo nano. Visualización propia"
   ]
  },
  {
   "cell_type": "code",
   "execution_count": 3,
   "metadata": {},
   "outputs": [
    {
     "name": "stderr",
     "output_type": "stream",
     "text": [
      "\n",
      "0: 640x384 3 cars, 97.4ms\n",
      "Speed: 3.5ms preprocess, 97.4ms inference, 1.0ms postprocess per image at shape (1, 3, 640, 384)\n"
     ]
    },
    {
     "name": "stdout",
     "output_type": "stream",
     "text": [
      "Confidence ---> 0.83\n",
      "Class name --> car\n",
      "Confidence ---> 0.62\n",
      "Class name --> car\n",
      "Confidence ---> 0.34\n",
      "Class name --> car\n"
     ]
    },
    {
     "name": "stderr",
     "output_type": "stream",
     "text": [
      "\n",
      "0: 640x384 3 cars, 101.2ms\n",
      "Speed: 2.0ms preprocess, 101.2ms inference, 1.0ms postprocess per image at shape (1, 3, 640, 384)\n"
     ]
    },
    {
     "name": "stdout",
     "output_type": "stream",
     "text": [
      "License Plate: ee\n",
      "\n",
      "Confidence ---> 0.82\n",
      "Class name --> car\n",
      "Confidence ---> 0.64\n",
      "Class name --> car\n",
      "Confidence ---> 0.45\n",
      "Class name --> car\n"
     ]
    },
    {
     "name": "stderr",
     "output_type": "stream",
     "text": [
      "\n",
      "0: 640x384 3 cars, 95.4ms\n",
      "Speed: 2.8ms preprocess, 95.4ms inference, 0.0ms postprocess per image at shape (1, 3, 640, 384)\n"
     ]
    },
    {
     "name": "stdout",
     "output_type": "stream",
     "text": [
      "License Plate: ae\n",
      "\n",
      "Confidence ---> 0.75\n",
      "Class name --> car\n",
      "Confidence ---> 0.74\n",
      "Class name --> car\n",
      "Confidence ---> 0.35\n",
      "Class name --> car\n"
     ]
    },
    {
     "name": "stderr",
     "output_type": "stream",
     "text": [
      "\n",
      "0: 640x384 3 cars, 98.7ms\n",
      "Speed: 10.4ms preprocess, 98.7ms inference, 1.8ms postprocess per image at shape (1, 3, 640, 384)\n"
     ]
    },
    {
     "name": "stdout",
     "output_type": "stream",
     "text": [
      "License Plate: +\n",
      "\n",
      "Confidence ---> 0.84\n",
      "Class name --> car\n",
      "Confidence ---> 0.76\n",
      "Class name --> car\n",
      "Confidence ---> 0.31\n",
      "Class name --> car\n"
     ]
    },
    {
     "name": "stderr",
     "output_type": "stream",
     "text": [
      "\n",
      "0: 640x384 2 cars, 83.1ms\n",
      "Speed: 17.0ms preprocess, 83.1ms inference, 2.0ms postprocess per image at shape (1, 3, 640, 384)\n"
     ]
    },
    {
     "name": "stdout",
     "output_type": "stream",
     "text": [
      "License Plate: | elles\n",
      "\n",
      "Confidence ---> 0.8\n",
      "Class name --> car\n",
      "Confidence ---> 0.7\n",
      "Class name --> car\n"
     ]
    },
    {
     "name": "stderr",
     "output_type": "stream",
     "text": [
      "\n",
      "0: 640x384 4 cars, 98.1ms\n",
      "Speed: 2.0ms preprocess, 98.1ms inference, 1.0ms postprocess per image at shape (1, 3, 640, 384)\n"
     ]
    },
    {
     "name": "stdout",
     "output_type": "stream",
     "text": [
      "License Plate: Ra\n",
      "\n",
      "Confidence ---> 0.83\n",
      "Class name --> car\n",
      "Confidence ---> 0.66\n",
      "Class name --> car\n",
      "Confidence ---> 0.26\n",
      "Class name --> car\n",
      "Confidence ---> 0.26\n",
      "Class name --> car\n"
     ]
    },
    {
     "name": "stderr",
     "output_type": "stream",
     "text": [
      "\n",
      "0: 640x384 3 cars, 92.3ms\n"
     ]
    },
    {
     "name": "stdout",
     "output_type": "stream",
     "text": [
      "License Plate: Gia\n",
      "\n",
      "Confidence ---> 0.81\n",
      "Class name --> car\n",
      "Confidence ---> 0.72\n",
      "Class name --> car\n",
      "Confidence ---> 0.27\n",
      "Class name --> car\n"
     ]
    },
    {
     "name": "stderr",
     "output_type": "stream",
     "text": [
      "Speed: 2.0ms preprocess, 92.3ms inference, 1.0ms postprocess per image at shape (1, 3, 640, 384)\n",
      "\n",
      "0: 640x384 3 cars, 83.6ms\n",
      "Speed: 3.8ms preprocess, 83.6ms inference, 14.3ms postprocess per image at shape (1, 3, 640, 384)\n"
     ]
    },
    {
     "name": "stdout",
     "output_type": "stream",
     "text": [
      "License Plate: las |\n",
      "\n",
      "Confidence ---> 0.79\n",
      "Class name --> car\n",
      "Confidence ---> 0.77\n",
      "Class name --> car\n",
      "Confidence ---> 0.42\n",
      "Class name --> car\n"
     ]
    },
    {
     "name": "stderr",
     "output_type": "stream",
     "text": [
      "\n",
      "0: 640x384 4 cars, 97.4ms\n",
      "Speed: 4.0ms preprocess, 97.4ms inference, 1.0ms postprocess per image at shape (1, 3, 640, 384)\n"
     ]
    },
    {
     "name": "stdout",
     "output_type": "stream",
     "text": [
      "License Plate: ia\n",
      "\n",
      "Confidence ---> 0.83\n",
      "Class name --> car\n",
      "Confidence ---> 0.75\n",
      "Class name --> car\n",
      "Confidence ---> 0.52\n",
      "Class name --> car\n",
      "Confidence ---> 0.42\n",
      "Class name --> car\n"
     ]
    },
    {
     "name": "stderr",
     "output_type": "stream",
     "text": [
      "\n",
      "0: 640x384 4 cars, 1 truck, 86.3ms\n",
      "Speed: 2.0ms preprocess, 86.3ms inference, 1.7ms postprocess per image at shape (1, 3, 640, 384)\n"
     ]
    },
    {
     "name": "stdout",
     "output_type": "stream",
     "text": [
      "License Plate: a\n",
      "\n",
      "Confidence ---> 0.84\n",
      "Class name --> car\n",
      "Confidence ---> 0.66\n",
      "Class name --> car\n",
      "Confidence ---> 0.38\n",
      "Class name --> car\n",
      "Confidence ---> 0.38\n",
      "Class name --> car\n",
      "Confidence ---> 0.27\n",
      "Class name --> truck\n"
     ]
    }
   ],
   "source": [
    "# Carga del modelo\n",
    "model = YOLO('yolov8n.pt')  # Contenedores\n",
    "\n",
    "# Nombre de las distintas clases\n",
    "classNames = [\"person\", \"bicycle\", \"car\", \"motorbike\", \"aeroplane\", \"bus\", \"train\", \"truck\", \"boat\",\n",
    "              \"traffic light\", \"fire hydrant\", \"stop sign\", \"parking meter\", \"bench\", \"bird\", \"cat\",\n",
    "              \"dog\", \"horse\", \"sheep\", \"cow\", \"elephant\", \"bear\", \"zebra\", \"giraffe\", \"backpack\", \"umbrella\",\n",
    "              \"handbag\", \"tie\", \"suitcase\", \"frisbee\", \"skis\", \"snowboard\", \"sports ball\", \"kite\", \"baseball bat\",\n",
    "              \"baseball glove\", \"skateboard\", \"surfboard\", \"tennis racket\", \"bottle\", \"wine glass\", \"cup\",\n",
    "              \"fork\", \"knife\", \"spoon\", \"bowl\", \"banana\", \"apple\", \"sandwich\", \"orange\", \"broccoli\",\n",
    "              \"carrot\", \"hot dog\", \"pizza\", \"donut\", \"cake\", \"chair\", \"sofa\", \"pottedplant\", \"bed\",\n",
    "              \"diningtable\", \"toilet\", \"tvmonitor\", \"laptop\", \"mouse\", \"remote\", \"keyboard\", \"cell phone\",\n",
    "              \"microwave\", \"oven\", \"toaster\", \"sink\", \"refrigerator\", \"book\", \"clock\", \"vase\", \"scissors\",\n",
    "              \"teddy bear\", \"hair drier\", \"toothbrush\"\n",
    "              ]\n",
    "\n",
    "# Para un vídeo\n",
    "filename = \"C:/Users/Lenovo/Desktop/video.MOV\"\n",
    "cap = cv2.VideoCapture(filename)\n",
    "\n",
    "while(cap.isOpened()):\n",
    "    # fotograma a fotograma\n",
    "    ret, img = cap.read()\n",
    "\n",
    "    # si hay imagen válida\n",
    "    if ret:\n",
    "        # Perform inference on an image\n",
    "        results = model(img, stream=True)\n",
    "\n",
    "        # Para cada detección\n",
    "        for r in results:\n",
    "            boxes = r.boxes\n",
    "\n",
    "            for box in boxes:\n",
    "                # Contenedor\n",
    "                x1, y1, x2, y2 = box.xyxy[0]\n",
    "                x1, y1, x2, y2 = int(x1), int(y1), int(x2), int(y2)  # convert to int values\n",
    "\n",
    "                # Confianza\n",
    "                confidence = math.ceil((box.conf[0] * 100)) / 100\n",
    "                print(\"Confidence --->\", confidence)\n",
    "\n",
    "                # Clase\n",
    "                cls = int(box.cls[0])\n",
    "                print(\"Class name -->\", classNames[cls])\n",
    "\n",
    "                # Convierte identificador numérico de clase a un color RGB\n",
    "                escala = int((cls / len(classNames)) * 255 * 3)\n",
    "                if escala >= 255 * 2:\n",
    "                    R = 255\n",
    "                    G = 255\n",
    "                    B = escala - 255 * 2\n",
    "                else:\n",
    "                    if escala >= 255:\n",
    "                        R = 255\n",
    "                        G = escala - 255\n",
    "                        B = 0\n",
    "                    else:\n",
    "                        R = escala\n",
    "                        G = 0\n",
    "                        B = 0\n",
    "\n",
    "                # Dibuja el contenedor y clase\n",
    "                cv2.rectangle(img, (x1, y1), (x2, y2), (R, G, B), 3)\n",
    "                cv2.putText(img, classNames[cls], [x1, y1], cv2.FONT_HERSHEY_SIMPLEX, 1, (255, 0, B), 2)\n",
    "\n",
    "                # Si la clase es un 'car' (vehículo), intenta reconocer la matrícula\n",
    "                if classNames[cls] == \"car\":\n",
    "                    # Recorta la región de la matrícula\n",
    "                    plate_img = img[y1:y2, x1:x2]\n",
    "\n",
    "                    # Convierte la imagen a escala de grises\n",
    "                    gray_plate = cv2.cvtColor(plate_img, cv2.COLOR_BGR2GRAY)\n",
    "\n",
    "                    # Aplica umbral para resaltar los caracteres\n",
    "                    _, thresh = cv2.threshold(gray_plate, 120, 255, cv2.THRESH_BINARY)\n",
    "\n",
    "                    # Utiliza Tesseract para reconocer texto en la imagen\n",
    "                    text = pytesseract.image_to_string(thresh, config='--psm 8', lang='eng')\n",
    "\n",
    "                    # Muestra el texto reconocido\n",
    "                    print(\"License Plate:\", text)\n",
    "\n",
    "                    # Dibuja el texto sobre la imagen\n",
    "                    cv2.putText(img, text, (x1, y1 - 10), cv2.FONT_HERSHEY_SIMPLEX, 0.5, (255, 255, 255), 1, cv2.LINE_AA)\n",
    "\n",
    "        # Redimensionamos el vídeo antes de mostrarlo\n",
    "        height, width, _ = img.shape\n",
    "        resized_img = cv2.resize(img, (int(width * 0.50), int(height * 0.50)))\n",
    "\n",
    "        # Muestra fotograma\n",
    "        cv2.imshow('Vid', resized_img)\n",
    "\n",
    "        # Detenemos pulsado ESC\n",
    "        if cv2.waitKey(20) == 27:\n",
    "            break\n",
    "    else:\n",
    "        break\n",
    "\n",
    "# Libera el objeto de captura\n",
    "cap.release()\n",
    "\n",
    "# Destruye ventanas\n",
    "cv2.destroyAllWindows()"
   ]
  },
  {
   "cell_type": "markdown",
   "metadata": {},
   "source": [
    "Diversos modelos preentrenados, visualizando"
   ]
  },
  {
   "cell_type": "code",
   "execution_count": null,
   "metadata": {},
   "outputs": [],
   "source": [
    "# Carga del modelo\n",
    "#model = YOLO('yolov8n.pt') #Contenedores\n",
    "#model = YOLO('yolov8n-seg.pt') #Máscaras\n",
    "model = YOLO('yolov8n-pose.pt')  #Pose\n",
    "\n",
    "#Para un vídeo \n",
    "filename = \"C:/Users/otsed/Desktop/RUNNERS_ILUSOS/Multimedia/Bibs/TGC23_PdH_C0056_resultado.mp4\"\n",
    "results = model(filename, show=True)\n",
    "\n",
    "cv2.destroyAllWindows()\n",
    "\n"
   ]
  },
  {
   "cell_type": "markdown",
   "metadata": {},
   "source": [
    "Intregración con seguimiento (tracking)\n",
    "Nota: he tenido que bajar a la versión de python 3.9.5 e instalar lap con pip install lap"
   ]
  },
  {
   "cell_type": "code",
   "execution_count": null,
   "metadata": {},
   "outputs": [],
   "source": [
    "# Carga del modelo\n",
    "model = YOLO('yolov8n.pt') #Contenedores\n",
    "#model = YOLO('yolov8n-seg.pt') #Máscaras\n",
    "#model = YOLO('yolov8n-pose.pt')  #Pose\n",
    "\n",
    "#Para un vídeo \n",
    "#filename = \"C:/Users/otsed/Desktop/RUNNERS_ILUSOS/Multimedia/Bibs/TGC23_PdH_C0056_resultado.mp4\"\n",
    "filename = \"D:/GH010196s.mp4\"\n",
    "results = model.track(source=filename, show=True)  # BoT-SORT tracker (por defecto)\n",
    "#results = model.track(source=filename, show=True, tracker=\"bytetrack.yaml\")  # ByteTrack tracker\n",
    "\n",
    "cv2.destroyAllWindows()"
   ]
  },
  {
   "cell_type": "markdown",
   "metadata": {},
   "source": [
    "Reconocimiento de caracteres tras instalar pytesseract y tesseract"
   ]
  },
  {
   "cell_type": "code",
   "execution_count": null,
   "metadata": {},
   "outputs": [],
   "source": [
    "# Tesseract\n",
    "import cv2\n",
    "import pytesseract\n",
    "\n",
    "# Previamente debes descargar los ejecutables\n",
    "# Si la ruta de Tesseract no está en el PATH, ruta al ejecutable\n",
    "pytesseract.pytesseract.tesseract_cmd = r'C:/Program Files/Tesseract-OCR/tesseract'\n",
    "\n",
    "# Lenguajes disponibles\n",
    "print(pytesseract.get_languages(config=''))\n",
    "\n",
    "#Cargo imagen y ocnvierto a RGB\n",
    "img = cv2.imread('toy.tif') \n",
    "img_rgb = cv2.cvtColor(img, cv2.COLOR_BGR2RGB)\n",
    "\n",
    "#Aplica reconocedor a imagen cargada\n",
    "print(pytesseract.image_to_string(img_rgb))"
   ]
  },
  {
   "cell_type": "markdown",
   "metadata": {},
   "source": [
    "Reconocimiento decaracteres tras instalar easyocr"
   ]
  },
  {
   "cell_type": "code",
   "execution_count": null,
   "metadata": {},
   "outputs": [],
   "source": [
    "import easyocr\n",
    "\n",
    "#Carga del modelo de lengua\n",
    "reader = easyocr.Reader(['es']) \n",
    "\n",
    "#Reconocimiento de una imagen\n",
    "result = reader.readtext('toy.tif')\n",
    "print(result)\n",
    "\n",
    "#Con restricción de caracteres reconocibles\n",
    "#result = reader.readtext('toy.tif', allowlist ='0123456789')"
   ]
  }
 ],
 "metadata": {
  "kernelspec": {
   "display_name": "Python 3.9.13 ('yolov7')",
   "language": "python",
   "name": "python3"
  },
  "language_info": {
   "codemirror_mode": {
    "name": "ipython",
    "version": 3
   },
   "file_extension": ".py",
   "mimetype": "text/x-python",
   "name": "python",
   "nbconvert_exporter": "python",
   "pygments_lexer": "ipython3",
   "version": "3.11.5"
  },
  "orig_nbformat": 4,
  "vscode": {
   "interpreter": {
    "hash": "54711ba1bddc392d48ca20e80feaa9b2e23d43069aa8b98ed16355091034ff6e"
   }
  }
 },
 "nbformat": 4,
 "nbformat_minor": 2
}
