{
 "cells": [
  {
   "cell_type": "markdown",
   "metadata": {},
   "source": [
    "#Paquetes necesarios"
   ]
  },
  {
   "cell_type": "code",
   "execution_count": 2,
   "metadata": {},
   "outputs": [],
   "source": [
    "import cv2  \n",
    "import math \n",
    "\n",
    "from ultralytics import YOLO\n",
    "import pytesseract\n",
    "import numpy as np"
   ]
  },
  {
   "cell_type": "code",
   "execution_count": 3,
   "metadata": {},
   "outputs": [
    {
     "name": "stderr",
     "output_type": "stream",
     "text": [
      "\n"
     ]
    },
    {
     "name": "stdout",
     "output_type": "stream",
     "text": [
      "Confidence ---> 0.87\n",
      "Class name --> car\n"
     ]
    },
    {
     "name": "stderr",
     "output_type": "stream",
     "text": [
      "0: 448x640 1 car, 119.3ms\n",
      "Speed: 5.0ms preprocess, 119.3ms inference, 3.3ms postprocess per image at shape (1, 3, 448, 640)\n"
     ]
    },
    {
     "name": "stdout",
     "output_type": "stream",
     "text": [
      "Matricula detectada: 84755 MEN\n",
      "\n"
     ]
    }
   ],
   "source": [
    "# Tamaño deseado para mostrar las imágenes\n",
    "desired_size = (800, 500)\n",
    "\n",
    "# Configuración personalizada para pytesseract\n",
    "custom_config = r'--oem 3 --psm 6 outputbase alphanumeric'\n",
    "\n",
    "# Visualización de las imágenes\n",
    "def show_image(window_name, image):\n",
    "    resized_image = cv2.resize(image, desired_size)\n",
    "    cv2.imshow(window_name, resized_image)\n",
    "    cv2.waitKey(0)\n",
    "    cv2.destroyAllWindows()\n",
    "\n",
    "# Carga del modelo YOLO\n",
    "model = YOLO('yolov8n.pt')  # Asegúrate de tener la implementación de YOLO cargada\n",
    "\n",
    "# Nombre de las distintas clases\n",
    "classNames = [\"person\", \"bicycle\", \"car\", \"motorbike\", \"aeroplane\", \"bus\", \"train\", \"truck\", \"boat\",\n",
    "              \"traffic light\", \"fire hydrant\", \"stop sign\", \"parking meter\", \"bench\", \"bird\", \"cat\",\n",
    "              \"dog\", \"horse\", \"sheep\", \"cow\", \"elephant\", \"bear\", \"zebra\", \"giraffe\", \"backpack\", \"umbrella\",\n",
    "              \"handbag\", \"tie\", \"suitcase\", \"frisbee\", \"skis\", \"snowboard\", \"sports ball\", \"kite\", \"baseball bat\",\n",
    "              \"baseball glove\", \"skateboard\", \"surfboard\", \"tennis racket\", \"bottle\", \"wine glass\", \"cup\",\n",
    "              \"fork\", \"knife\", \"spoon\", \"bowl\", \"banana\", \"apple\", \"sandwich\", \"orange\", \"broccoli\",\n",
    "              \"carrot\", \"hot dog\", \"pizza\", \"donut\", \"cake\", \"chair\", \"sofa\", \"pottedplant\", \"bed\",\n",
    "              \"diningtable\", \"toilet\", \"tvmonitor\", \"laptop\", \"mouse\", \"remote\", \"keyboard\", \"cell phone\",\n",
    "              \"microwave\", \"oven\", \"toaster\", \"sink\", \"refrigerator\", \"book\", \"clock\", \"vase\", \"scissors\",\n",
    "              \"teddy bear\", \"hair drier\", \"toothbrush\"\n",
    "              ]\n",
    "\n",
    "# Ruta de la imagen a procesar\n",
    "image_path = \"coche3.jpeg\"\n",
    "\n",
    "# Leer la imagen\n",
    "img = cv2.imread(image_path)\n",
    "\n",
    "# Realizar la detección de objetos con YOLO\n",
    "results = model(img, stream=True)\n",
    "\n",
    "# Variable para indicar si se detectó un coche\n",
    "car_detected = False\n",
    "\n",
    "# Para cada detección\n",
    "for r in results:\n",
    "    boxes = r.boxes\n",
    "\n",
    "    for box in boxes:\n",
    "        # Coordenadas del contenedor\n",
    "        x1, y1, x2, y2 = box.xyxy[0]\n",
    "        x1, y1, x2, y2 = int(x1), int(y1), int(x2), int(y2)  # convertir a valores enteros\n",
    "\n",
    "        # Clase\n",
    "        cls = int(box.cls[0])\n",
    "\n",
    "        # Si la clase detectada es un coche\n",
    "        if classNames[cls] == \"car\":\n",
    "            # Confianza\n",
    "            confidence = math.ceil((box.conf[0] * 100)) / 100\n",
    "            print(\"Confidence --->\", confidence)\n",
    "\n",
    "            print(\"Class name -->\", classNames[cls])\n",
    "\n",
    "            # Convertir identificador numérico de clase a un color RGB\n",
    "            escala = int((cls / len(classNames)) * 255 * 3)\n",
    "            if escala >= 255 * 2:\n",
    "                R = 255\n",
    "                G = 255\n",
    "                B = escala - 255 * 2\n",
    "            else:\n",
    "                if escala >= 255:\n",
    "                    R = 255\n",
    "                    G = escala - 255\n",
    "                    B = 0\n",
    "                else:\n",
    "                    R = escala\n",
    "                    G = 0\n",
    "                    B = 0\n",
    "\n",
    "            # Dibujar el contenedor y la clase\n",
    "            cv2.rectangle(img, (x1, y1), (x2, y2), (R, G, B), 3)\n",
    "            cv2.putText(img, classNames[cls], (x1, y1), cv2.FONT_HERSHEY_SIMPLEX, 1, (255, 0, B), 2)\n",
    "\n",
    "            show_image('Images con clases detectadas', img)\n",
    "\n",
    "            # Si se detecta un coche, actualiza la variable\n",
    "            car_detected = True\n",
    "            # Mostrar solo la región de interés alrededor del coche\n",
    "            car_roi = img[y1:y2, x1:x2]\n",
    "            show_image('Region de interes (coche)', car_roi)\n",
    "\n",
    "# Si se detectó un coche, realiza la detección de matrículas\n",
    "if car_detected:\n",
    "    # Convertimos la imagen a escala de grises\n",
    "    gray = cv2.cvtColor(car_roi, cv2.COLOR_BGR2GRAY)\n",
    "    show_image('Escala de grises', gray)\n",
    "\n",
    "    # Aplicamos un threshold\n",
    "    thresh = cv2.threshold(gray, 140, 255, cv2.THRESH_BINARY_INV)[1]\n",
    "    show_image('Threshold', thresh)\n",
    "\n",
    "    # Buscamos los contornos presentes\n",
    "    contours, _ = cv2.findContours(thresh, cv2.RETR_LIST, cv2.CHAIN_APPROX_NONE)\n",
    "    canvas = np.zeros_like(car_roi)\n",
    "    cv2.drawContours(canvas, contours, -1, (0, 255, 0), 2)\n",
    "    show_image('Bordes', canvas)\n",
    "\n",
    "    # Filtrar contornos en la mitad inferior de la imagen\n",
    "    height, width = car_roi.shape[:2]\n",
    "    lower_half_contours = [cnt for cnt in contours if cv2.boundingRect(cnt)[1] > height // 2]\n",
    "\n",
    "    # Ordenar contornos por área (de mayor a menor)\n",
    "    lower_half_contours = sorted(lower_half_contours, key=cv2.contourArea, reverse=True)\n",
    "\n",
    "    # Obtener el contorno más grande\n",
    "    if lower_half_contours:\n",
    "        largest_contour = lower_half_contours[0]\n",
    "\n",
    "        # Visualización del contorno más grande\n",
    "        canvas = np.zeros_like(car_roi)\n",
    "        cv2.drawContours(canvas, [largest_contour], -1, (0, 255, 0), 2)\n",
    "        show_image('Contorno mas grande en la mitad inferior', canvas)\n",
    "\n",
    "        # Extraer la región correspondiente al contorno más grande\n",
    "        x, y, w, h = cv2.boundingRect(largest_contour)\n",
    "        region_of_interest = car_roi[y:y + h, x:x + w]\n",
    "\n",
    "        # Mostrar la matrícula\n",
    "        show_image('Matricula', region_of_interest)\n",
    "\n",
    "        # Utilizar pytesseract para la detección de texto en la imagen preprocesada\n",
    "        text = pytesseract.image_to_string(region_of_interest, config=custom_config)\n",
    "        print(\"Matricula detectada:\", text)\n",
    "\n",
    "else:\n",
    "    print(\"No se detectó un coche en la imagen.\")"
   ]
  }
 ],
 "metadata": {
  "kernelspec": {
   "display_name": "Python 3.9.13 ('yolov7')",
   "language": "python",
   "name": "python3"
  },
  "language_info": {
   "codemirror_mode": {
    "name": "ipython",
    "version": 3
   },
   "file_extension": ".py",
   "mimetype": "text/x-python",
   "name": "python",
   "nbconvert_exporter": "python",
   "pygments_lexer": "ipython3",
   "version": "3.11.5"
  },
  "orig_nbformat": 4,
  "vscode": {
   "interpreter": {
    "hash": "54711ba1bddc392d48ca20e80feaa9b2e23d43069aa8b98ed16355091034ff6e"
   }
  }
 },
 "nbformat": 4,
 "nbformat_minor": 2
}
