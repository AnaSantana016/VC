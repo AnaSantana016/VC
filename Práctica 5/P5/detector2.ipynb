{
 "cells": [
  {
   "cell_type": "markdown",
   "metadata": {},
   "source": [
    "#Paquetes necesarios"
   ]
  },
  {
   "cell_type": "code",
   "execution_count": 7,
   "metadata": {},
   "outputs": [],
   "source": [
    "import cv2  \n",
    "import matplotlib.pyplot as plt\n",
    "from ultralytics import YOLO\n",
    "import pytesseract\n",
    "from pytesseract import Output \n",
    "import re"
   ]
  },
  {
   "cell_type": "markdown",
   "metadata": {},
   "source": [
    "Desde cámara, detección con yolov8 y modelo nano. Visualización propia"
   ]
  },
  {
   "cell_type": "code",
   "execution_count": 55,
   "metadata": {},
   "outputs": [
    {
     "name": "stdout",
     "output_type": "stream",
     "text": [
      "Matricula detectada:   BG2I KYX   \n"
     ]
    }
   ],
   "source": [
    "# Tamaño deseado para mostrar las imágenes\n",
    "desired_size = (800, 500)\n",
    "\n",
    "# Ruta del modelo YOLO\n",
    "model = YOLO('matricula.pt')  # Asegúrate de tener la implementación de YOLO cargada\n",
    "\n",
    "# Ruta absoluta de Tesseract\n",
    "pytesseract.pytesseract.tesseract_cmd = r'C:/Program Files/Tesseract-OCR/tesseract'\n",
    "\n",
    "def show_image(window_name, image):\n",
    "    resized_image = cv2.resize(image, desired_size)\n",
    "    cv2.imshow(window_name, resized_image)\n",
    "    cv2.waitKey(0)\n",
    "    cv2.destroyAllWindows()\n",
    "\n",
    "# Leer la imagen\n",
    "image_path = \"coche5.jpeg\"\n",
    "car = cv2.imread(image_path)\n",
    "\n",
    "# Detectar matrículas\n",
    "results = model(car, verbose=False)\n",
    "\n",
    "# Para cada detección\n",
    "for r in results:\n",
    "    boxes = r.boxes\n",
    "\n",
    "    for box in boxes:\n",
    "        # Coordenadas del contenedor\n",
    "        x1, y1, x2, y2 = box.xyxy[0]\n",
    "        x1, y1, x2, y2 = int(x1), int(y1), int(x2), int(y2)  # convertir a valores enteros\n",
    "        \n",
    "        # Tenemos solo con la matrícula\n",
    "        plate = car[y1:y2, x1:x2]\n",
    "        \n",
    "        # Recuadro de la matrícula\n",
    "        cv2.rectangle(car, (x1, y1), (x2, y2), (0, 0, 255), 3)\n",
    "        \n",
    "        # Definir el patrón de la matrícula \"0000 AAA\"\n",
    "        plate_pattern = re.compile(r'^\\d{4}\\s[A-Z]{3}$')\n",
    "        \n",
    "        # Aplicamos OCR a la matrícula\n",
    "        text = pytesseract.image_to_string(plate, config='--psm 8', output_type=Output.STRING)\n",
    "        \n",
    "        if plate_pattern.match(text):\n",
    "        \n",
    "            print(\"Matricula detectada:\", text)\n",
    "        else:\n",
    "            text = re.sub(r'[^A-Za-z0-9]', ' ', text)\n",
    "            print(\"Matricula detectada:\", text)\n",
    "\n",
    "        # Pasamos a RGB el coche y de la matrícula \n",
    "        car_rgb = cv2.cvtColor(car, cv2.COLOR_BGR2RGB)\n",
    "        plate_rgb = cv2.cvtColor(plate, cv2.COLOR_BGR2RGB)\n",
    " \n",
    "        show_image(\"Coche con la matrícula marcada\", car_rgb)\n",
    "        show_image(\"Matrícula\", plate_rgb)\n",
    "        break"
   ]
  }
 ],
 "metadata": {
  "kernelspec": {
   "display_name": "Python 3.9.13 ('yolov7')",
   "language": "python",
   "name": "python3"
  },
  "language_info": {
   "codemirror_mode": {
    "name": "ipython",
    "version": 3
   },
   "file_extension": ".py",
   "mimetype": "text/x-python",
   "name": "python",
   "nbconvert_exporter": "python",
   "pygments_lexer": "ipython3",
   "version": "3.11.5"
  },
  "orig_nbformat": 4,
  "vscode": {
   "interpreter": {
    "hash": "54711ba1bddc392d48ca20e80feaa9b2e23d43069aa8b98ed16355091034ff6e"
   }
  }
 },
 "nbformat": 4,
 "nbformat_minor": 2
}
