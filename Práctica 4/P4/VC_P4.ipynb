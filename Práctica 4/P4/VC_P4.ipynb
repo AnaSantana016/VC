{
 "cells": [
  {
   "cell_type": "markdown",
   "metadata": {},
   "source": [
    "Detección de caras con webcam"
   ]
  },
  {
   "cell_type": "code",
   "execution_count": 1,
   "metadata": {},
   "outputs": [],
   "source": [
    "import cv2\n",
    "import time\n",
    "import FaceNormalizationUtils as faceutils\n",
    "# My face detectors interface\n",
    "import FaceDetectors"
   ]
  },
  {
   "cell_type": "markdown",
   "metadata": {},
   "source": [
    "El siguiente filtro consiste en añadir una imagen a nuestro rostro.\n",
    "\n"
   ]
  },
  {
   "cell_type": "code",
   "execution_count": 3,
   "metadata": {},
   "outputs": [
    {
     "name": "stdout",
     "output_type": "stream",
     "text": [
      "Camera 0\n"
     ]
    }
   ],
   "source": [
    "normalizatorHS = faceutils.Normalization()\n",
    "FDet = FaceDetectors.FaceDetector()\n",
    "font = cv2.FONT_HERSHEY_SIMPLEX\n",
    "\n",
    "cap = cv2.VideoCapture(0)\n",
    "\n",
    "if not cap.isOpened():\n",
    "    cap = cv2.VideoCapture(1)\n",
    "    if not cap.isOpened():\n",
    "        cap = cv2.VideoCapture(0)\n",
    "        if not cap.isOpened():\n",
    "            print('Camera error')\n",
    "            exit(0)\n",
    "        else:\n",
    "            print('Camera 0')\n",
    "    else:\n",
    "        print('Camera 1')\n",
    "else:\n",
    "    print('Camera 0')\n",
    "\n",
    "imodoF = 0\n",
    "imodoE = 0\n",
    "\n",
    "debug = 0\n",
    "\n",
    "cap.set(3, 640)\n",
    "cap.set(4, 480)\n",
    "\n",
    "while True:\n",
    "    t = time.time()\n",
    "    ret, frame = cap.read()\n",
    "\n",
    "    B, G, R = cv2.split(frame)\n",
    "\n",
    "    values = FDet.SingleFaceEyesDetection(frame, FDet.FaceDetectors[imodoF], FDet.EyeDetectors[imodoE])\n",
    "    if values is not None:\n",
    "        face, eyes, shape = values\n",
    "\n",
    "        [x, y, w, h] = face\n",
    "        if x > -1:\n",
    "            cv2.rectangle(frame, (x, y), (x + w, y + h), (255, 0, 0), 2)\n",
    "\n",
    "            [lex, ley, rex, rey] = eyes\n",
    "            if lex > -1:\n",
    "                if imodoF > 0:\n",
    "                    for (x, y) in shape:\n",
    "                        cv2.circle(frame, (x, y), 2, (255, 255, 255), -1)\n",
    "\n",
    "                cv2.circle(frame, ((int)(lex), (int)(ley)), 4, (0, 0, 255), -1)\n",
    "                cv2.circle(frame, ((int)(rex), (int)(rey)), 4, (0, 255, 0), -1)\n",
    "\n",
    "                normalizatorHS.normalize_gray_img(B, lex, ley, rex, rey, faceutils.Kind_wraping.HS)\n",
    "                Bnorm = normalizatorHS.normf_image\n",
    "                normalizatorHS.normalize_gray_img(G, lex, ley, rex, rey, faceutils.Kind_wraping.HS)\n",
    "                Gnorm = normalizatorHS.normf_image\n",
    "                normalizatorHS.normalize_gray_img(R, lex, ley, rex, rey, faceutils.Kind_wraping.HS)\n",
    "                Rnorm = normalizatorHS.normf_image\n",
    "                NormBGR = cv2.merge((Bnorm, Gnorm, Rnorm))\n",
    "\n",
    "                filtro = cv2.imread('filtro.png', -1)\n",
    "                filtro_ancho = w\n",
    "                filtro_alto = h\n",
    "\n",
    "                if filtro.shape[2] == 4:\n",
    "                    \n",
    "                    #Modificamos las dimenciones del filtro \n",
    "                    filtro_resized = cv2.resize(filtro, (w, h))\n",
    "                    \n",
    "                    for c in range(0, 3):\n",
    "                        \n",
    "                        # Combina los canales del filtro y la imagen de la cara \n",
    "                        frame[y:y+h, x:x+w, c] = frame[y:y+h, x:x+w, c] * \\\n",
    "                            (1 - filtro_resized[:, :, 3] / 255.0) + \\\n",
    "                            filtro_resized[:, :, c] * \\\n",
    "                            (filtro_resized[:, :, 3] / 255.0)\n",
    "                else:\n",
    "                    frame[y:y+h, x:x+w] = cv2.addWeighted(frame[y:y+h, x:x+w], 1, filtro, 0.5, 0)\n",
    "\n",
    "                cv2.imshow(\"Normalized\", NormBGR)\n",
    "\n",
    "    if debug:\n",
    "        print(\"Processing time : {:.3f}\".format(time.time() - t))\n",
    "\n",
    "    cv2.putText(frame, FDet.FaceDetectors[imodoF], (10, 20), font, 0.5, (255, 255, 255), 2, cv2.LINE_AA)\n",
    "    if imodoF == 1 or imodoF == 2:\n",
    "        cv2.putText(frame, FDet.EyeDetectors[imodoE], (50, 20), font, 0.5, (255, 255, 255), 2, cv2.LINE_AA)\n",
    "    cv2.imshow('Cam', frame)\n",
    "\n",
    "    tec = cv2.waitKey(40)\n",
    "    if tec & tec == 27:\n",
    "        break\n",
    "\n",
    "cap.release()\n",
    "cv2.destroyAllWindows()"
   ]
  }
 ],
 "metadata": {
  "kernelspec": {
   "display_name": "Python 3.7.3 ('FACES')",
   "language": "python",
   "name": "python3"
  },
  "language_info": {
   "codemirror_mode": {
    "name": "ipython",
    "version": 3
   },
   "file_extension": ".py",
   "mimetype": "text/x-python",
   "name": "python",
   "nbconvert_exporter": "python",
   "pygments_lexer": "ipython3",
   "version": "3.11.5"
  },
  "vscode": {
   "interpreter": {
    "hash": "ea3a1ee99ce326e593ddb52cd278556d527fcb6552c40e2a47b1efb9d0183637"
   }
  }
 },
 "nbformat": 4,
 "nbformat_minor": 2
}
