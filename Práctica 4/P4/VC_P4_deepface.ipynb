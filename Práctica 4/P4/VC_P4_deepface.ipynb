{
 "cells": [
  {
   "cell_type": "markdown",
   "metadata": {},
   "source": [
    "Detección de caras con webcam"
   ]
  },
  {
   "cell_type": "code",
   "execution_count": 1,
   "metadata": {},
   "outputs": [],
   "source": [
    "import cv2\n",
    "# My face detectors interface\n",
    "import FaceDetectors"
   ]
  },
  {
   "cell_type": "markdown",
   "metadata": {},
   "source": [
    "El siguiente filtro consiste en detectar los ojos y aplicarle un filtro de desenfoque."
   ]
  },
  {
   "cell_type": "code",
   "execution_count": 2,
   "metadata": {},
   "outputs": [
    {
     "name": "stdout",
     "output_type": "stream",
     "text": [
      "Camera 0\n"
     ]
    }
   ],
   "source": [
    "FDet = FaceDetectors.FaceDetector()\n",
    "\n",
    "cap = cv2.VideoCapture(0)\n",
    "\n",
    "if not cap.isOpened():\n",
    "    cap = cv2.VideoCapture(1)\n",
    "    if not cap.isOpened():\n",
    "        cap = cv2.VideoCapture(0)\n",
    "        if not cap.isOpened():\n",
    "            print('Camera error')\n",
    "            exit(0)\n",
    "        else:\n",
    "            print('Camera 0')\n",
    "    else:\n",
    "        print('Camera 1')\n",
    "else:\n",
    "    print('Camera 0')\n",
    "\n",
    "cap.set(3, 640)\n",
    "cap.set(4, 480)\n",
    "\n",
    "while True:\n",
    "    ret, frame = cap.read()\n",
    "\n",
    "    values = FDet.DetectLargestFaceEyesDNN(frame, 'DLIB68')\n",
    "\n",
    "    if values is not None:\n",
    "        face, eyes, shape = values\n",
    "\n",
    "        [x, y, w, h] = face\n",
    "        if x > -1:\n",
    "            cv2.rectangle(frame, (x, y), (x + w, y + h), (255, 0, 0), 2)\n",
    "\n",
    "            [lex, ley, rex, rey] = eyes\n",
    "\n",
    "            if lex > -1 and ley > -1 and rex > -1 and rey > -1:\n",
    "                #Se redondean y convierten en enteros los valores de las coordenadas de los ojos\n",
    "                lex, ley, rex, rey = int(round(lex)), int(round(ley)), int(round(rex)), int(round(rey))\n",
    "\n",
    "                # Obtiene la región de los ojos\n",
    "                eye_region = frame[ley-20:rey+20, lex-30:rex+30]\n",
    "\n",
    "                if eye_region.size > 0:\n",
    "                    # Desenfoque de la región de los ojos\n",
    "                    eye_region = cv2.GaussianBlur(eye_region, (25, 25), 0)\n",
    "\n",
    "                    frame[ley-20:rey+20, lex-30:rex+30] = eye_region\n",
    "\n",
    "\n",
    "    cv2.imshow('Cam', frame)\n",
    "\n",
    "    tec = cv2.waitKey(40)\n",
    "    if tec & tec == 27:\n",
    "        break\n",
    "\n",
    "cap.release()\n",
    "cv2.destroyAllWindows()\n"
   ]
  }
 ],
 "metadata": {
  "kernelspec": {
   "display_name": "Python 3.9.0 ('deepface')",
   "language": "python",
   "name": "python3"
  },
  "language_info": {
   "codemirror_mode": {
    "name": "ipython",
    "version": 3
   },
   "file_extension": ".py",
   "mimetype": "text/x-python",
   "name": "python",
   "nbconvert_exporter": "python",
   "pygments_lexer": "ipython3",
   "version": "3.11.5"
  },
  "vscode": {
   "interpreter": {
    "hash": "12028effb1af0cd2244438ff9b17d06bb1d7695ec7a554a144e43ec4b8b79006"
   }
  }
 },
 "nbformat": 4,
 "nbformat_minor": 2
}
